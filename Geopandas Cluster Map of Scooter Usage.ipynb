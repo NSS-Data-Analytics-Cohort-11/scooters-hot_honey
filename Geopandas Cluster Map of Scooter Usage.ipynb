{
 "cells": [
  {
   "cell_type": "code",
   "execution_count": 1,
   "id": "08d7442b",
   "metadata": {},
   "outputs": [],
   "source": [
    "from sqlalchemy import create_engine, text\n",
    "import geopandas as gpd\n",
    "import pandas as pd\n",
    "import numpy as np\n",
    "import matplotlib.pyplot as plt\n",
    "import folium\n",
    "from folium.plugins import MarkerCluster\n",
    "from folium.plugins import FastMarkerCluster"
   ]
  },
  {
   "cell_type": "code",
   "execution_count": 3,
   "id": "19b7453f",
   "metadata": {},
   "outputs": [],
   "source": [
    "#read in tripsdf csv created in the other notebook\n",
    "tripsdf = pd.read_csv('data/tripsdf.csv')"
   ]
  },
  {
   "cell_type": "code",
   "execution_count": 4,
   "id": "eba46b99",
   "metadata": {},
   "outputs": [],
   "source": [
    "#Clean the company names in the trips table so that they match the scooters table\n",
    "tripsdf['companyname'] = tripsdf['companyname'].str.replace('Bolt Mobility','Bolt').str.replace('SPIN','Spin').str.replace('JUMP','Jump')"
   ]
  },
  {
   "cell_type": "markdown",
   "id": "3391a6f0",
   "metadata": {},
   "source": [
    "# Metro would like to know how many scooters are needed, and something that could help with this is knowing peak demand. \n",
    "\n",
    "## Estimate the highest count of scooters being used at the same time. \n",
    "\n",
    "## When were the highest volume times? \n",
    "\n",
    "## Does this vary by zip code or other geographic region?"
   ]
  },
  {
   "cell_type": "code",
   "execution_count": 5,
   "id": "35bdfa80",
   "metadata": {
    "scrolled": false
   },
   "outputs": [
    {
     "data": {
      "text/html": [
       "<div>\n",
       "<style scoped>\n",
       "    .dataframe tbody tr th:only-of-type {\n",
       "        vertical-align: middle;\n",
       "    }\n",
       "\n",
       "    .dataframe tbody tr th {\n",
       "        vertical-align: top;\n",
       "    }\n",
       "\n",
       "    .dataframe thead th {\n",
       "        text-align: right;\n",
       "    }\n",
       "</style>\n",
       "<table border=\"1\" class=\"dataframe\">\n",
       "  <thead>\n",
       "    <tr style=\"text-align: right;\">\n",
       "      <th></th>\n",
       "      <th>hour</th>\n",
       "      <th>startdatetime</th>\n",
       "    </tr>\n",
       "  </thead>\n",
       "  <tbody>\n",
       "    <tr>\n",
       "      <th>23</th>\n",
       "      <td>23</td>\n",
       "      <td>44832</td>\n",
       "    </tr>\n",
       "    <tr>\n",
       "      <th>18</th>\n",
       "      <td>18</td>\n",
       "      <td>44717</td>\n",
       "    </tr>\n",
       "    <tr>\n",
       "      <th>19</th>\n",
       "      <td>19</td>\n",
       "      <td>44698</td>\n",
       "    </tr>\n",
       "    <tr>\n",
       "      <th>0</th>\n",
       "      <td>0</td>\n",
       "      <td>43462</td>\n",
       "    </tr>\n",
       "    <tr>\n",
       "      <th>17</th>\n",
       "      <td>17</td>\n",
       "      <td>43339</td>\n",
       "    </tr>\n",
       "    <tr>\n",
       "      <th>20</th>\n",
       "      <td>20</td>\n",
       "      <td>41973</td>\n",
       "    </tr>\n",
       "    <tr>\n",
       "      <th>21</th>\n",
       "      <td>21</td>\n",
       "      <td>40902</td>\n",
       "    </tr>\n",
       "    <tr>\n",
       "      <th>22</th>\n",
       "      <td>22</td>\n",
       "      <td>38149</td>\n",
       "    </tr>\n",
       "    <tr>\n",
       "      <th>16</th>\n",
       "      <td>16</td>\n",
       "      <td>36433</td>\n",
       "    </tr>\n",
       "    <tr>\n",
       "      <th>1</th>\n",
       "      <td>1</td>\n",
       "      <td>32690</td>\n",
       "    </tr>\n",
       "    <tr>\n",
       "      <th>15</th>\n",
       "      <td>15</td>\n",
       "      <td>25907</td>\n",
       "    </tr>\n",
       "    <tr>\n",
       "      <th>2</th>\n",
       "      <td>2</td>\n",
       "      <td>24463</td>\n",
       "    </tr>\n",
       "    <tr>\n",
       "      <th>3</th>\n",
       "      <td>3</td>\n",
       "      <td>21827</td>\n",
       "    </tr>\n",
       "    <tr>\n",
       "      <th>14</th>\n",
       "      <td>14</td>\n",
       "      <td>17846</td>\n",
       "    </tr>\n",
       "    <tr>\n",
       "      <th>4</th>\n",
       "      <td>4</td>\n",
       "      <td>16280</td>\n",
       "    </tr>\n",
       "    <tr>\n",
       "      <th>13</th>\n",
       "      <td>13</td>\n",
       "      <td>11705</td>\n",
       "    </tr>\n",
       "    <tr>\n",
       "      <th>5</th>\n",
       "      <td>5</td>\n",
       "      <td>9471</td>\n",
       "    </tr>\n",
       "    <tr>\n",
       "      <th>12</th>\n",
       "      <td>12</td>\n",
       "      <td>7413</td>\n",
       "    </tr>\n",
       "    <tr>\n",
       "      <th>6</th>\n",
       "      <td>6</td>\n",
       "      <td>6601</td>\n",
       "    </tr>\n",
       "    <tr>\n",
       "      <th>7</th>\n",
       "      <td>7</td>\n",
       "      <td>4334</td>\n",
       "    </tr>\n",
       "    <tr>\n",
       "      <th>11</th>\n",
       "      <td>11</td>\n",
       "      <td>3630</td>\n",
       "    </tr>\n",
       "    <tr>\n",
       "      <th>8</th>\n",
       "      <td>8</td>\n",
       "      <td>2194</td>\n",
       "    </tr>\n",
       "    <tr>\n",
       "      <th>10</th>\n",
       "      <td>10</td>\n",
       "      <td>1524</td>\n",
       "    </tr>\n",
       "    <tr>\n",
       "      <th>9</th>\n",
       "      <td>9</td>\n",
       "      <td>1132</td>\n",
       "    </tr>\n",
       "  </tbody>\n",
       "</table>\n",
       "</div>"
      ],
      "text/plain": [
       "    hour  startdatetime\n",
       "23    23          44832\n",
       "18    18          44717\n",
       "19    19          44698\n",
       "0      0          43462\n",
       "17    17          43339\n",
       "20    20          41973\n",
       "21    21          40902\n",
       "22    22          38149\n",
       "16    16          36433\n",
       "1      1          32690\n",
       "15    15          25907\n",
       "2      2          24463\n",
       "3      3          21827\n",
       "14    14          17846\n",
       "4      4          16280\n",
       "13    13          11705\n",
       "5      5           9471\n",
       "12    12           7413\n",
       "6      6           6601\n",
       "7      7           4334\n",
       "11    11           3630\n",
       "8      8           2194\n",
       "10    10           1524\n",
       "9      9           1132"
      ]
     },
     "execution_count": 5,
     "metadata": {},
     "output_type": "execute_result"
    }
   ],
   "source": [
    "#This changes the starttime and startdate columns to datetime:\n",
    "tripsdf['startdatetime'] = pd.to_datetime(tripsdf['startdate'].astype('str')+' '+tripsdf['starttime'].astype('str'), format ='mixed')\n",
    "\n",
    "#This gives us the count of scooters used per hour for the duration of the dataset\n",
    "scooters_per_hour = tripsdf.assign(hour = tripsdf['startdatetime'].dt.hour).groupby(['hour'])['startdatetime'].count().reset_index()\n",
    "scooters_per_hour.sort_values(['startdatetime'], ascending = False).head(24)\n"
   ]
  },
  {
   "cell_type": "code",
   "execution_count": null,
   "id": "b0e14e03",
   "metadata": {},
   "outputs": [],
   "source": [
    "print('weekend_hours', 'count')"
   ]
  },
  {
   "cell_type": "code",
   "execution_count": null,
   "id": "ed661473",
   "metadata": {
    "scrolled": false
   },
   "outputs": [],
   "source": [
    "plt.plot(scooters_per_hour)\n",
    "plt.show()"
   ]
  },
  {
   "cell_type": "markdown",
   "id": "7e6bd4f2",
   "metadata": {},
   "source": [
    "#This gives us the count of scooters used per day_of_week for the duration of the dataset\n",
    "scooters_per_day = tripsdf.assign(day_of_week = tripsdf['startdatetime'].dt.day_name).groupby(['day_of_week'])['startdatetime'].count().reset_index()\n",
    "scooters_per_day.head()\n",
    "\n",
    "#Couldn't get this to work"
   ]
  },
  {
   "cell_type": "code",
   "execution_count": null,
   "id": "c4954d9c",
   "metadata": {},
   "outputs": [],
   "source": [
    "#Next, lets look at the concentration of scooters per zipcode:\n",
    "\n",
    "#read in zip codes file\n",
    "zipcodes = gpd.read_file('zipcodes.geojson')\n",
    "#optional: print(zipcodes.crs)\n",
    "#optional: zipcodes.head()\n",
    "\n",
    "#convert each lat and long point to a geodataframe, matching the CRS of the zipcodes file\n",
    "trips_start_geo = gpd.GeoDataFrame(tripsdf,\n",
    "                           crs = zipcodes.crs,\n",
    "                           geometry = gpd.points_from_xy(tripsdf.startlongitude, tripsdf.startlatitude))\n",
    "trips_end_geo = gpd.GeoDataFrame(tripsdf,\n",
    "                           crs = zipcodes.crs,\n",
    "                           geometry = gpd.points_from_xy(tripsdf.endlongitude, tripsdf.endlatitude))\n",
    "\n",
    "#clean up the zipcodes dataframe to only relevant info\n",
    "zipcodes = zipcodes[['zip', 'po_name', 'geometry']]\n",
    "\n",
    "#list of trip start points within each zip code\n",
    "start_points_by_zip = gpd.sjoin(trips_start_geo, zipcodes, predicate = 'within')\n",
    "\n",
    "#list of trip end points within each zip code\n",
    "end_points_by_zip = gpd.sjoin(trips_end_geo, zipcodes, predicate = 'within')"
   ]
  },
  {
   "cell_type": "code",
   "execution_count": null,
   "id": "4e5d797d",
   "metadata": {},
   "outputs": [],
   "source": [
    "#create a dataframe that records the count of trips that start in each zip code\n",
    "start_points = start_points_by_zip['zip'].value_counts().to_frame().reset_index()"
   ]
  },
  {
   "cell_type": "code",
   "execution_count": null,
   "id": "e9687670",
   "metadata": {},
   "outputs": [],
   "source": [
    "#create a dataframe that records the count of trips that end in each zip code\n",
    "end_points = end_points_by_zip['zip'].value_counts().to_frame().reset_index()"
   ]
  },
  {
   "cell_type": "code",
   "execution_count": null,
   "id": "03912b91",
   "metadata": {},
   "outputs": [],
   "source": [
    "#combine start points with zipcode data to make \"start_zips\"\n",
    "start_zips = zipcodes.merge(start_points, left_on='zip', right_on='zip')"
   ]
  },
  {
   "cell_type": "code",
   "execution_count": null,
   "id": "d1c3ffd2",
   "metadata": {},
   "outputs": [],
   "source": [
    "#combine end points with zipcode data to make \"end_zips\"\n",
    "end_zips = zipcodes.merge(end_points, left_on='zip', right_on='zip')"
   ]
  },
  {
   "cell_type": "code",
   "execution_count": null,
   "id": "fc468117",
   "metadata": {},
   "outputs": [],
   "source": [
    "fig, ax = plt.subplots(figsize=(10,10))\n",
    "start_zips.plot(column = 'count',\n",
    "              cmap = 'RdPu', \n",
    "              legend = True,\n",
    "              edgecolor = 'black', \n",
    "              ax = ax)\n",
    "plt.title('Scooter Usage by Zipcode', fontsize = 14)\n",
    "ax.axis('off')"
   ]
  },
  {
   "cell_type": "markdown",
   "id": "ff7f05e7",
   "metadata": {},
   "source": [
    "#### Answer: Top 3 zip codes by trip volume are 37203, 37201, and 37219"
   ]
  },
  {
   "cell_type": "code",
   "execution_count": null,
   "id": "e2a1569b",
   "metadata": {
    "scrolled": false
   },
   "outputs": [],
   "source": [
    "#Lets look at the scooters in the highest density zipcode: 37203\n",
    "        #Note: You can use this code to check the counts per zip: \n",
    "        #start_points.head()\n",
    "\n",
    "#First, filter the full dataframe (start_points_by_zip) to get the scooters that started trips in 37203. \n",
    "#You have to use that specific variable bc its the one right after the geopandas sjoin that still includes all the individual rows\n",
    "start_zips_37203 = start_points_by_zip.loc[start_points_by_zip['zip'].isin(['37203', '37201', '37219'])]\n",
    "start_zips_37203.info()"
   ]
  },
  {
   "cell_type": "code",
   "execution_count": null,
   "id": "0462f8a7",
   "metadata": {},
   "outputs": [],
   "source": [
    "#convert startdatetime to a datetime format\n",
    "start_zips_37203['startdatetime'] = pd.to_datetime(start_zips_37203['startdate'].astype('str')+' '+start_zips_37203['starttime'].astype('str'), format ='mixed')\n"
   ]
  },
  {
   "cell_type": "code",
   "execution_count": null,
   "id": "4733cf16",
   "metadata": {},
   "outputs": [],
   "source": [
    "start_zips_37203.info()"
   ]
  },
  {
   "cell_type": "code",
   "execution_count": null,
   "id": "1f1f08ca",
   "metadata": {},
   "outputs": [],
   "source": [
    "#create a new column that indicates what hour each trip is\n",
    "start_zips_37203['hour'] = start_zips_37203['startdatetime'].dt.hour"
   ]
  },
  {
   "cell_type": "code",
   "execution_count": null,
   "id": "77d9d2d5",
   "metadata": {},
   "outputs": [],
   "source": [
    "#create a new column that indicates what day of the week each trip is\n",
    "start_zips_37203['week_day'] = start_zips_37203['startdatetime'].dt.day_name()"
   ]
  },
  {
   "cell_type": "code",
   "execution_count": null,
   "id": "377e58d6",
   "metadata": {},
   "outputs": [],
   "source": [
    "#notice the dataframe now has hour and week_day as columns\n",
    "start_zips_37203.head()"
   ]
  },
  {
   "cell_type": "code",
   "execution_count": null,
   "id": "25c40b14",
   "metadata": {
    "scrolled": false
   },
   "outputs": [],
   "source": [
    "#This will show which days of the week had the most trips\n",
    "start_zips_37203[['sumdid', 'week_day']].groupby(['week_day'])['sumdid']\\\n",
    "                                                        .nunique()\\\n",
    "                                                        .reset_index(name = 'count')\\\n",
    "                                                        .sort_values(['count'], ascending = False)"
   ]
  },
  {
   "cell_type": "code",
   "execution_count": null,
   "id": "f3704d17",
   "metadata": {},
   "outputs": [],
   "source": [
    "scooters_per_hour_on_weekend = start_zips_37203.groupby(['hour'])['startdatetime'].count().reset_index().sort_values(by = 'startdatetime', ascending = False)\n",
    "scooters_per_hour_on_weekend.head(24)"
   ]
  },
  {
   "cell_type": "code",
   "execution_count": null,
   "id": "c28501bd",
   "metadata": {},
   "outputs": [],
   "source": [
    "#filter the zip code geodataframe to just the polygon (row) for 37203\n",
    "polygon37203 = zipcodes.loc[zipcodes['zip'].isin(['37203', '37201', '37219'])]\n",
    "polygon37203.shape"
   ]
  },
  {
   "cell_type": "code",
   "execution_count": null,
   "id": "93436d7a",
   "metadata": {},
   "outputs": [],
   "source": [
    "#First plot the polygon for 37203. coloring it light green\n",
    "#Next plot the points for the scooters and color them by hour of the day\n",
    "\n",
    "ax = polygon37203.plot(figsize = (8, 10), color = 'lightgreen')\n",
    "start_zips_37203.plot( ax = ax, column = 'hour');\n",
    "plt.show()\n"
   ]
  },
  {
   "cell_type": "markdown",
   "id": "42a9b5d3",
   "metadata": {},
   "source": [
    "### Folium maps require a center point for the street map. "
   ]
  },
  {
   "cell_type": "code",
   "execution_count": null,
   "id": "7ff7a263",
   "metadata": {},
   "outputs": [],
   "source": [
    "#Make use of a GeoSeries attribute (.centroid) which gives the center of a polygon\n",
    "center = polygon37203.geometry.centroid[35]\n",
    "print(center)"
   ]
  },
  {
   "cell_type": "markdown",
   "id": "9897279f",
   "metadata": {},
   "source": [
    "### Folium requires a location point as an array \n",
    "- with *latitude* first\n",
    "- but shapely Points have *longitude* first "
   ]
  },
  {
   "cell_type": "code",
   "execution_count": null,
   "id": "86751ef7",
   "metadata": {},
   "outputs": [],
   "source": [
    "# reverse the order when constructing the array for folium location\n",
    "area_center = [center.y, center.x]\n",
    "\n",
    "# check the order of area_center, the location for our folium map\n",
    "print(area_center)"
   ]
  },
  {
   "cell_type": "markdown",
   "id": "4e2b2dfa",
   "metadata": {},
   "source": [
    "### To create a folium map just call the folium Map() constructor \n",
    "- location is the only argument required by the constructor\n",
    "- Set area_center as the location of the folium map.\n",
    "- zoom_start is an optional argument\n",
    "- A setting of 12 should get us nice and close"
   ]
  },
  {
   "cell_type": "code",
   "execution_count": null,
   "id": "240a1669",
   "metadata": {},
   "outputs": [],
   "source": [
    "#create our map of Nashville Zip Code 37203 and show it\n",
    "map_37203 = folium.Map(location =  area_center, zoom_start = 12)\n",
    "map_37203"
   ]
  },
  {
   "cell_type": "markdown",
   "id": "132a6436",
   "metadata": {},
   "source": [
    "#### Next, let's add our 37207 polygon and bus stop markers."
   ]
  },
  {
   "cell_type": "markdown",
   "id": "bcc337ca",
   "metadata": {},
   "source": [
    "#### `itterows()` is a generator that iterates through the rows of a DataFrame and returns a tuple with the row id and row values. \n",
    "- Below, we are printing the row values for the first 3 row as we iterate through the GeoDataFrame of scooter tripss tarted in 37203. \n",
    "- This idea will be helpful for creating our markers!"
   ]
  },
  {
   "cell_type": "code",
   "execution_count": null,
   "id": "ec4e96ca",
   "metadata": {},
   "outputs": [],
   "source": [
    "i = 0\n",
    "for row_index, row_values in start_zips_37203.iterrows():\n",
    "    if i <3: \n",
    "        print('index is', row_index)\n",
    "        print('values are:')\n",
    "        print(' ')\n",
    "        print(row_values)\n",
    "        print('------------------------- ')\n",
    "        i+=1"
   ]
  },
  {
   "cell_type": "markdown",
   "id": "3e2a6e94",
   "metadata": {},
   "source": [
    "#### Create map_37203 again with additional features:\n",
    "- add the zipcode area outline (polygon_37203)\n",
    "- iterate through the start_zips_37203 to\n",
    "    - create location from each lat and lng\n",
    "    - create a popup from the hour column\n",
    "    - create a custom icon if you want with [font-awesome](https://fontawesome.com/v4.7.0/icons/)\n",
    "    - build a marker from each location and popup and (optionally) your custom icon \n",
    "    - add the marker to  `map_37203`\n",
    "- display `map_37203`"
   ]
  },
  {
   "cell_type": "code",
   "execution_count": null,
   "id": "7d3f6ebc",
   "metadata": {},
   "outputs": [],
   "source": [
    "#There are over 25k markers in the start_zips_37203 dataframe so we amy need to filter it:\n",
    "    #check number of rows: start_zips_37203.shape\n",
    "start_zips_37203_hours_12_to_1pm = start_zips_37203[start_zips_37203['hour'].isin([12, 13])]\n",
    "start_zips_37203_hours_12_to_1pm.head()"
   ]
  },
  {
   "cell_type": "code",
   "execution_count": null,
   "id": "e67e9f9e",
   "metadata": {},
   "outputs": [],
   "source": [
    "start_zips_37203_hours_12_to_1pm.shape"
   ]
  },
  {
   "cell_type": "code",
   "execution_count": null,
   "id": "b8d1be4a",
   "metadata": {},
   "outputs": [],
   "source": [
    "start_zips_37203_peak_hours = start_zips_37203[(start_zips_37203['hour'].isin([18, 19, 23])) & (start_zips_37203['week_day'].isin(['Saturday', 'Sunday', 'Friday']))] \n",
    "start_zips_37203_peak_hours.shape"
   ]
  },
  {
   "cell_type": "markdown",
   "id": "5dad2447",
   "metadata": {},
   "source": [
    "#### If you have a lot of markers, you might want to use marker clusters\n",
    "- Folium has `MarkerCluster()` and `FastMarkerCluster()`\n",
    "- Construct a `MarkerCluster()` \n",
    "    - construct a `MarkerCluster()` and `.add_to()` the map\n",
    "    - when you loop through the data and create markers add those to the marker cluster\n",
    "- Construct a `FastMarkerCluster()` by passing a list of locations"
   ]
  },
  {
   "cell_type": "code",
   "execution_count": null,
   "id": "735f54e7",
   "metadata": {},
   "outputs": [],
   "source": [
    "#draw our zip code area: 37203\n",
    "cluster_map_37203 = folium.Map(location =  area_center, zoom_start = 12)\n",
    "\n",
    "#create a marker cluster\n",
    "marker_cluster = MarkerCluster().add_to(cluster_map_37203)\n",
    "\n",
    "folium.GeoJson(polygon37203).add_to(cluster_map_37203)\n",
    "\n",
    "#iterate through start_zips_37203_peak_hours to create locations and markers \n",
    "#for each scooter trip start point\n",
    "#remember for Folium locations, lat is listed first!!\n",
    "# inside the loop add each marker to the cluster\n",
    "for row_index, row_values in start_zips_37203_peak_hours.iterrows():\n",
    "    loc = [row_values['startlatitude'], row_values['startlongitude']]\n",
    "    pop = str(row_values['hour'])\n",
    "    icon=folium.Icon(color=\"blue\",icon=\"fa-dot-circle-o\", prefix='fa')\n",
    "    \n",
    "    marker = folium.Marker(\n",
    "        location = loc, \n",
    "        popup = pop, icon = icon) \n",
    "    \n",
    "    marker.add_to(marker_cluster)\n",
    "\n",
    "    \n",
    "#save an interactive HTML map by calling .save()\n",
    "#cluster_map_37207.save('../maps/cluster37207.html')"
   ]
  },
  {
   "cell_type": "code",
   "execution_count": null,
   "id": "3f72557a",
   "metadata": {},
   "outputs": [],
   "source": [
    "#display our clustered map\n",
    "cluster_map_37203"
   ]
  },
  {
   "cell_type": "code",
   "execution_count": null,
   "id": "4a92bee5",
   "metadata": {},
   "outputs": [],
   "source": []
  },
  {
   "cell_type": "code",
   "execution_count": null,
   "id": "0fe368c8",
   "metadata": {},
   "outputs": [],
   "source": []
  }
 ],
 "metadata": {
  "kernelspec": {
   "display_name": "Python [conda env:scooters]",
   "language": "python",
   "name": "conda-env-scooters-py"
  },
  "language_info": {
   "codemirror_mode": {
    "name": "ipython",
    "version": 3
   },
   "file_extension": ".py",
   "mimetype": "text/x-python",
   "name": "python",
   "nbconvert_exporter": "python",
   "pygments_lexer": "ipython3",
   "version": "3.10.14"
  }
 },
 "nbformat": 4,
 "nbformat_minor": 5
}
